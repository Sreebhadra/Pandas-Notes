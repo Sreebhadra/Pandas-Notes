{
 "cells": [
  {
   "cell_type": "markdown",
   "id": "151c60cc-9b6e-4315-aef8-437497ab08a9",
   "metadata": {},
   "source": [
    "# **Understanding Pandas**\n",
    "\n",
    "Let's understand the concepts:\n",
    "\n",
    "1. NumPy and ndarray:\n",
    "   * NumPy is a Python library for working with arrays.\n",
    "   * It has a data structure called ndarray (n-dimensional array).\n",
    "   * ndarrays are good for storing and manipulating dense, typed arrays efficiently.\n",
    "\n",
    "2. Pandas:\n",
    "   * Pandas is a newer library built on top of NumPy.\n",
    "   * It provides a data structure called DataFrame.\n",
    "\n",
    "3. DataFrame:\n",
    "   * Think of it as a table or spreadsheet.\n",
    "   * It has rows and columns with labels.\n",
    "   * Can handle different types of data in different columns.\n",
    "   * Can work with missing data.\n",
    "\n",
    "4. Why Pandas is useful:\n",
    "   * More flexible than NumPy for certain tasks.\n",
    "   * Good for working with labeled data.\n",
    "   * Handles operations like grouping and pivoting data.\n",
    "   * Useful for \"data munging\" (cleaning and organizing messy data).\n",
    "\n",
    "5. Series:\n",
    "   * Another data structure in Pandas.\n",
    "   * Similar to a single column in a DataFrame.\n",
    "\n",
    "6. Real-world applications:\n",
    "   * Pandas is great for working with less structured data found in the real world.\n",
    "   * It's commonly used in data science for preparing and analyzing data."
   ]
  },
  {
   "cell_type": "code",
   "execution_count": 1,
   "id": "ceaf687a-b6b9-4ef2-9488-7b897edac363",
   "metadata": {},
   "outputs": [
    {
     "data": {
      "text/plain": [
       "'2.2.2'"
      ]
     },
     "execution_count": 1,
     "metadata": {},
     "output_type": "execute_result"
    }
   ],
   "source": [
    "import pandas\n",
    "pandas.__version__"
   ]
  },
  {
   "cell_type": "markdown",
   "id": "21b0ca3a-b5be-42ea-b486-f0def04d515b",
   "metadata": {},
   "source": [
    "Just as we generally import NumPy under the alias ``np``, we will import Pandas under the alias ``pd``:"
   ]
  },
  {
   "cell_type": "code",
   "execution_count": 4,
   "id": "5aaa2239-f6d4-4f19-a4cb-48a07e954ae5",
   "metadata": {},
   "outputs": [],
   "source": [
    "import pandas as pd"
   ]
  },
  {
   "cell_type": "markdown",
   "id": "f78c1a7b-3c0b-450e-8490-995abec223bd",
   "metadata": {},
   "source": [
    "# Exploring Pandas with IPython Features\n",
    "\n",
    "1. IPython Features:\n",
    "   * Tab-completion: This feature allows you to see available methods and attributes.\n",
    "   * Documentation access: Using the `?` character, you can quickly view documentation for functions and objects.\n",
    "\n",
    "2. Exploring Pandas:\n",
    "   * To see all the contents (functions, classes, etc.) in the Pandas namespace, you can type:\n"
   ]
  },
  {
   "cell_type": "code",
   "execution_count": 29,
   "id": "c9acf8bc-335a-4f28-8597-8f4b909605b9",
   "metadata": {},
   "outputs": [
    {
     "name": "stdout",
     "output_type": "stream",
     "text": [
      "['ArrowDtype', 'BooleanDtype', 'Categorical', 'CategoricalDtype', 'CategoricalIndex', 'DataFrame', 'DateOffset', 'DatetimeIndex', 'DatetimeTZDtype', 'ExcelFile', 'ExcelWriter', 'Flags', 'Float32Dtype', 'Float64Dtype', 'Grouper', 'HDFStore', 'Index', 'IndexSlice', 'Int16Dtype', 'Int32Dtype', 'Int64Dtype', 'Int8Dtype', 'Interval', 'IntervalDtype', 'IntervalIndex', 'MultiIndex', 'NA', 'NaT', 'NamedAgg', 'Period', 'PeriodDtype', 'PeriodIndex', 'RangeIndex', 'Series', 'SparseDtype', 'StringDtype', 'Timedelta', 'TimedeltaIndex', 'Timestamp', 'UInt16Dtype', 'UInt32Dtype', 'UInt64Dtype', 'UInt8Dtype', '__all__', '__builtins__', '__cached__', '__doc__', '__docformat__', '__file__', '__git_version__', '__loader__', '__name__', '__package__', '__path__', '__spec__', '__version__', '_built_with_meson', '_config', '_is_numpy_dev', '_libs', '_pandas_datetime_CAPI', '_pandas_parser_CAPI', '_testing', '_typing', '_version_meson', 'annotations', 'api', 'array', 'arrays', 'bdate_range', 'compat', 'concat', 'core', 'crosstab', 'cut', 'date_range', 'describe_option', 'errors', 'eval', 'factorize', 'from_dummies', 'get_dummies', 'get_option', 'infer_freq', 'interval_range', 'io', 'isna', 'isnull', 'json_normalize', 'lreshape', 'melt', 'merge', 'merge_asof', 'merge_ordered', 'notna', 'notnull', 'offsets', 'option_context', 'options', 'pandas', 'period_range', 'pivot', 'pivot_table', 'plotting', 'qcut', 'read_clipboard', 'read_csv', 'read_excel', 'read_feather', 'read_fwf', 'read_gbq', 'read_hdf', 'read_html', 'read_json', 'read_orc', 'read_parquet', 'read_pickle', 'read_sas', 'read_spss', 'read_sql', 'read_sql_query', 'read_sql_table', 'read_stata', 'read_table', 'read_xml', 'reset_option', 'set_eng_float_format', 'set_option', 'show_versions', 'test', 'testing', 'timedelta_range', 'to_datetime', 'to_numeric', 'to_pickle', 'to_timedelta', 'tseries', 'unique', 'util', 'value_counts', 'wide_to_long']\n"
     ]
    }
   ],
   "source": [
    "import pandas as pd\n",
    "print(dir(pd))"
   ]
  },
  {
   "cell_type": "raw",
   "id": "7db931ba-824d-436f-89fd-71ddf668c6a6",
   "metadata": {},
   "source": [
    "import pandas as pd\n",
    "help(pd.DataFrame)  # For example, to get help on the DataFrame class"
   ]
  },
  {
   "cell_type": "markdown",
   "id": "eaa8c3f1-da21-494f-8b53-51bea90d7ebe",
   "metadata": {},
   "source": [
    "Here, `pd` is typically the alias used when importing Pandas (`import pandas as pd`). Pressing the TAB key after `pd.` will show you all available options.\n",
    "\n",
    "3. Accessing Pandas Documentation:\n",
    "  * To view the built-in documentation for Pandas, you can type:"
   ]
  },
  {
   "cell_type": "raw",
   "id": "f048b4ac-a44b-4d5e-94c6-934ba41c2fbf",
   "metadata": {},
   "source": [
    "pd?"
   ]
  },
  {
   "cell_type": "raw",
   "id": "85bb9cd0-a050-4f8c-8553-2fd2bf61eccb",
   "metadata": {},
   "source": [
    "#Remember, you can use these features with specific functions or methods too.\n",
    "pd.Dataframe?"
   ]
  },
  {
   "cell_type": "markdown",
   "id": "cce1c277-ef76-4357-ba76-3b77025284cb",
   "metadata": {},
   "source": [
    "This will display an overview of the Pandas library, including a description, usage information, and more.\n",
    "\n",
    "These IPython features are incredibly useful when working with Pandas (or any Python library) because they allow you to:\n",
    "* Quickly discover available functions and methods without needing to constantly refer to external documentation.\n",
    "* Get immediate help and explanations for specific functions or objects you're working with.\n",
    "* Explore the library interactively, which can be especially helpful when learning or trying to solve a problem."
   ]
  },
  {
   "cell_type": "code",
   "execution_count": null,
   "id": "8de66b67-2f5f-4c20-a1d1-a9054e130fec",
   "metadata": {},
   "outputs": [],
   "source": []
  }
 ],
 "metadata": {
  "kernelspec": {
   "display_name": "Python 3 (ipykernel)",
   "language": "python",
   "name": "python3"
  },
  "language_info": {
   "codemirror_mode": {
    "name": "ipython",
    "version": 3
   },
   "file_extension": ".py",
   "mimetype": "text/x-python",
   "name": "python",
   "nbconvert_exporter": "python",
   "pygments_lexer": "ipython3",
   "version": "3.12.4"
  }
 },
 "nbformat": 4,
 "nbformat_minor": 5
}
