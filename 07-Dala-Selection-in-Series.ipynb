{
 "cells": [
  {
   "cell_type": "markdown",
   "id": "bfdc2983-5da8-49f7-aaaa-d214ce9fb9c1",
   "metadata": {},
   "source": [
    "# Data Selection in Pandas Series\n",
    "\n",
    "## 1. Series as Dictionary:\n",
    "   * A Series can be thought of as a dictionary-like structure.\n",
    "   * You can access values using keys (index labels).\n",
    "   * You can use dictionary-like methods (`keys()`, `items()`, etc.).\n",
    "   * You can add new items by assigning to a new index.\n",
    "\n",
    "## 2. Series as One-dimensional Array:\n",
    "   * A Series also behaves like a NumPy array.\n",
    "   * Supports slicing, masking, and fancy indexing.\n",
    "   * Slicing with explicit index includes the end point.\n",
    "   * Slicing with implicit integer index excludes the end point.\n",
    "\n",
    "## 3. Indexers: loc, iloc, and ix:\n",
    "   * `loc`: Uses explicit index labels for selection.\n",
    "   * `iloc`: Uses implicit Python-style integer indexing.\n",
    "   * `ix`: A hybrid of `loc` and `iloc` (less commonly used now).\n",
    "\n",
    "## 4. Important Distinctions:\n",
    "   * With integer indexes, `data[1]` uses explicit index, while `data[1:3]` uses implicit index.\n",
    "   * This can lead to confusion, which is why `loc` and `iloc` are recommended.\n",
    "\n",
    "## 5. Best Practices:\n",
    "   * Use `loc` for label-based indexing: `data.loc['a':'c']`\n",
    "   * Use `iloc` for position-based indexing: `data.iloc[0:2]`\n",
    "   * These make the code more explicit and less prone to errors."
   ]
  },
  {
   "cell_type": "code",
   "execution_count": 8,
   "id": "20fa60b3-671a-407d-aea0-1958b8a0670b",
   "metadata": {},
   "outputs": [
    {
     "data": {
      "text/plain": [
       "1    a\n",
       "3    b\n",
       "5    c\n",
       "dtype: object"
      ]
     },
     "execution_count": 8,
     "metadata": {},
     "output_type": "execute_result"
    }
   ],
   "source": [
    "import pandas as pd\n",
    "\n",
    "data = pd.Series(['a', 'b', 'c'], index=[1, 3, 5])\n",
    "\n",
    "data"
   ]
  },
  {
   "cell_type": "code",
   "execution_count": 10,
   "id": "0b30e64c-3950-4fc9-9398-5b6caf27103a",
   "metadata": {},
   "outputs": [
    {
     "name": "stdout",
     "output_type": "stream",
     "text": [
      "a\n"
     ]
    }
   ],
   "source": [
    "# Dictionary-like access\n",
    "print(data[1])  "
   ]
  },
  {
   "cell_type": "code",
   "execution_count": 12,
   "id": "e2daa959-7584-42f6-a6e8-d7774ce0dd20",
   "metadata": {},
   "outputs": [
    {
     "name": "stdout",
     "output_type": "stream",
     "text": [
      "3    b\n",
      "5    c\n",
      "dtype: object\n"
     ]
    }
   ],
   "source": [
    "# Array-like slicing\n",
    "print(data[1:3])  "
   ]
  },
  {
   "cell_type": "code",
   "execution_count": 14,
   "id": "37f5e0a5-e4ec-4e61-a8e9-67eb49a865f5",
   "metadata": {},
   "outputs": [
    {
     "name": "stdout",
     "output_type": "stream",
     "text": [
      "1    a\n",
      "3    b\n",
      "dtype: object\n"
     ]
    }
   ],
   "source": [
    "\n",
    "# Using loc (label-based)\n",
    "print(data.loc[1:3])  "
   ]
  },
  {
   "cell_type": "code",
   "execution_count": 16,
   "id": "0465f53d-5bd7-41b3-9eb0-a3a06154e279",
   "metadata": {},
   "outputs": [
    {
     "name": "stdout",
     "output_type": "stream",
     "text": [
      "3    b\n",
      "5    c\n",
      "dtype: object\n"
     ]
    }
   ],
   "source": [
    "# Using iloc (position-based)\n",
    "print(data.iloc[1:3])  "
   ]
  },
  {
   "cell_type": "code",
   "execution_count": null,
   "id": "9b03d1d5-d9e8-4aff-933b-ce3cae38228f",
   "metadata": {},
   "outputs": [],
   "source": []
  }
 ],
 "metadata": {
  "kernelspec": {
   "display_name": "Python 3 (ipykernel)",
   "language": "python",
   "name": "python3"
  },
  "language_info": {
   "codemirror_mode": {
    "name": "ipython",
    "version": 3
   },
   "file_extension": ".py",
   "mimetype": "text/x-python",
   "name": "python",
   "nbconvert_exporter": "python",
   "pygments_lexer": "ipython3",
   "version": "3.12.4"
  }
 },
 "nbformat": 4,
 "nbformat_minor": 5
}
