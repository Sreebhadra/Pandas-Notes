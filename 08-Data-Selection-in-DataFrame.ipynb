{
 "cells": [
  {
   "cell_type": "markdown",
   "id": "d3c48e10-5e7c-427d-9177-310b7e63526e",
   "metadata": {},
   "source": [
    "# Data Selection in Pandas DataFrames\n",
    "\n",
    "## 1. DataFrame as a Dictionary of Series:\n",
    "   * Columns can be accessed using dictionary-style indexing: `data['column_name']`\n",
    "   * Attribute-style access is also possible for string column names: `data.column_name`\n",
    "   * New columns can be added: `data['new_column'] = values`\n",
    "\n",
    "## 2. DataFrame as a Two-dimensional Array:\n",
    "   * The underlying data can be accessed using the `values` attribute\n",
    "   * The DataFrame can be transposed using `data.T`\n",
    "\n",
    "## 3. Indexing Methods:\n",
    "   * `loc`: Label-based indexing \n",
    "     Example: `data.loc['row_label', 'column_label']`\n",
    "   * `iloc`: Integer-based indexing \n",
    "     Example: `data.iloc[0, 1]`\n",
    "   * `ix`: Hybrid of `loc` and `iloc` (deprecated in newer versions)\n",
    "\n",
    "## 4. Slicing:\n",
    "   * Can be done on rows: `data['row1':'row3']`\n",
    "   * Can use integer-based slicing: `data[1:3]`\n",
    "\n",
    "## 5. Masking:\n",
    "   * Boolean indexing is applied row-wise: `data[data.column > value]`\n",
    "\n",
    "## 6. Modifying Data:\n",
    "   * Can be done using any of the indexing methods\n",
    "   * Example: `data.iloc[0, 2] = 90`\n",
    "\n",
    "## 7. Additional Conventions:\n",
    "   * Square brackets `[]` refer to columns when single-indexing\n",
    "   * Slicing with `[]` refers to rows"
   ]
  },
  {
   "cell_type": "code",
   "execution_count": 17,
   "id": "629bc506-8e88-4bb7-8659-bc6fd9291775",
   "metadata": {},
   "outputs": [
    {
     "data": {
      "text/html": [
       "<div>\n",
       "<style scoped>\n",
       "    .dataframe tbody tr th:only-of-type {\n",
       "        vertical-align: middle;\n",
       "    }\n",
       "\n",
       "    .dataframe tbody tr th {\n",
       "        vertical-align: top;\n",
       "    }\n",
       "\n",
       "    .dataframe thead th {\n",
       "        text-align: right;\n",
       "    }\n",
       "</style>\n",
       "<table border=\"1\" class=\"dataframe\">\n",
       "  <thead>\n",
       "    <tr style=\"text-align: right;\">\n",
       "      <th></th>\n",
       "      <th>A</th>\n",
       "      <th>B</th>\n",
       "      <th>C</th>\n",
       "    </tr>\n",
       "  </thead>\n",
       "  <tbody>\n",
       "    <tr>\n",
       "      <th>row1</th>\n",
       "      <td>1</td>\n",
       "      <td>10</td>\n",
       "      <td>100</td>\n",
       "    </tr>\n",
       "    <tr>\n",
       "      <th>row2</th>\n",
       "      <td>2</td>\n",
       "      <td>20</td>\n",
       "      <td>200</td>\n",
       "    </tr>\n",
       "    <tr>\n",
       "      <th>row3</th>\n",
       "      <td>3</td>\n",
       "      <td>30</td>\n",
       "      <td>300</td>\n",
       "    </tr>\n",
       "    <tr>\n",
       "      <th>row4</th>\n",
       "      <td>4</td>\n",
       "      <td>40</td>\n",
       "      <td>400</td>\n",
       "    </tr>\n",
       "    <tr>\n",
       "      <th>row5</th>\n",
       "      <td>5</td>\n",
       "      <td>50</td>\n",
       "      <td>500</td>\n",
       "    </tr>\n",
       "  </tbody>\n",
       "</table>\n",
       "</div>"
      ],
      "text/plain": [
       "      A   B    C\n",
       "row1  1  10  100\n",
       "row2  2  20  200\n",
       "row3  3  30  300\n",
       "row4  4  40  400\n",
       "row5  5  50  500"
      ]
     },
     "execution_count": 17,
     "metadata": {},
     "output_type": "execute_result"
    }
   ],
   "source": [
    "import pandas as pd\n",
    "\n",
    "# Create a sample DataFrame\n",
    "df = pd.DataFrame({\n",
    "    'A': [1, 2, 3, 4, 5],\n",
    "    'B': [10, 20, 30, 40, 50],\n",
    "    'C': [100, 200, 300, 400, 500]\n",
    "}, index=['row1', 'row2', 'row3', 'row4', 'row5'])\n",
    "\n",
    "df\n"
   ]
  },
  {
   "cell_type": "code",
   "execution_count": 19,
   "id": "addb6e9a-23f4-4482-925d-de35c62d3cfe",
   "metadata": {},
   "outputs": [
    {
     "name": "stdout",
     "output_type": "stream",
     "text": [
      "row1    1\n",
      "row2    2\n",
      "row3    3\n",
      "row4    4\n",
      "row5    5\n",
      "Name: A, dtype: int64\n"
     ]
    }
   ],
   "source": [
    "# Dictionary-style column access\n",
    "print(df['A'])\n",
    "\n"
   ]
  },
  {
   "cell_type": "code",
   "execution_count": 21,
   "id": "becb22ed-8337-40e8-bdd8-db53ef2b2f64",
   "metadata": {},
   "outputs": [
    {
     "name": "stdout",
     "output_type": "stream",
     "text": [
      "       B    C\n",
      "row2  20  200\n",
      "row3  30  300\n",
      "row4  40  400\n"
     ]
    }
   ],
   "source": [
    "# Label-based indexing with loc\n",
    "print(df.loc['row2':'row4', 'B':'C'])\n",
    "\n"
   ]
  },
  {
   "cell_type": "code",
   "execution_count": 23,
   "id": "a558b9ee-050f-4e33-8a26-b597feeebc39",
   "metadata": {},
   "outputs": [
    {
     "name": "stdout",
     "output_type": "stream",
     "text": [
      "       B    C\n",
      "row2  20  200\n",
      "row3  30  300\n",
      "row4  40  400\n"
     ]
    }
   ],
   "source": [
    "# Integer-based indexing with iloc\n",
    "print(df.iloc[1:4, 1:3])\n",
    "\n"
   ]
  },
  {
   "cell_type": "code",
   "execution_count": 25,
   "id": "0d4c39de-ee1c-434a-8309-51c26cfff5de",
   "metadata": {},
   "outputs": [
    {
     "name": "stdout",
     "output_type": "stream",
     "text": [
      "      A   B    C\n",
      "row4  4  40  400\n",
      "row5  5  50  500\n"
     ]
    }
   ],
   "source": [
    "# Masking\n",
    "print(df[df['A'] > 3])\n",
    "\n"
   ]
  },
  {
   "cell_type": "code",
   "execution_count": 27,
   "id": "4dfb3da3-dea8-4155-b05d-fff79bcd5eb8",
   "metadata": {},
   "outputs": [
    {
     "name": "stdout",
     "output_type": "stream",
     "text": [
      "      A   B    C\n",
      "row1  1  10  100\n",
      "row2  2  20  200\n",
      "row3  3  35  300\n",
      "row4  4  40  400\n",
      "row5  5  50  500\n"
     ]
    }
   ],
   "source": [
    "# Modifying data\n",
    "df.loc['row3', 'B'] = 35\n",
    "print(df)"
   ]
  },
  {
   "cell_type": "code",
   "execution_count": null,
   "id": "e95b6eb7-5496-45f6-b8a2-e77a68cf7596",
   "metadata": {},
   "outputs": [],
   "source": []
  }
 ],
 "metadata": {
  "kernelspec": {
   "display_name": "Python 3 (ipykernel)",
   "language": "python",
   "name": "python3"
  },
  "language_info": {
   "codemirror_mode": {
    "name": "ipython",
    "version": 3
   },
   "file_extension": ".py",
   "mimetype": "text/x-python",
   "name": "python",
   "nbconvert_exporter": "python",
   "pygments_lexer": "ipython3",
   "version": "3.12.4"
  }
 },
 "nbformat": 4,
 "nbformat_minor": 5
}
