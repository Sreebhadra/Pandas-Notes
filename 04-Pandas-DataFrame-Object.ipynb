{
 "cells": [
  {
   "cell_type": "markdown",
   "id": "bac0abbd-00a0-4127-bc81-7442f497e99c",
   "metadata": {},
   "source": [
    "# **Pandas DataFrame**\n",
    "\n",
    "1. Definition of a DataFrame:\n",
    "   * A two-dimensional data structure\n",
    "   * Has flexible row indices and column names\n",
    "   * Can be thought of as a collection of aligned Series objects\n",
    "\n",
    "2. Relationship to Other Data Structures:\n",
    "   * Generalization of a NumPy array:\n",
    "      * Like a NumPy array, but with flexible row and column labels\n",
    "      * Can contain multiple data types across columns (unlike NumPy arrays)\n",
    "   * Specialization of a Python dictionary:\n",
    "      * Like a dict of Series objects, all sharing the same index\n",
    "\n",
    "3. Conceptual View:\n",
    "    * Each column in a DataFrame is essentially a Series\n",
    "    * All Series in a DataFrame share the same index\n",
    "\n",
    "4. Key Characteristics:\n",
    "   * Has both row and column labels\n",
    "   * Can contain heterogeneous data types across columns\n",
    "   * Size-mutable: columns can be added or removed\n",
    "   * Both rows and columns are indexable\n",
    "\n",
    "5. Advantages:\n",
    "\n",
    "    * More intuitive data access using meaningful labels\n",
    "    * Easier to work with heterogeneous data\n",
    "    * Built-in alignment based on labels"
   ]
  },
  {
   "cell_type": "code",
   "execution_count": 6,
   "id": "73632b28-9890-4d0b-bd51-2211bc6c7f7c",
   "metadata": {},
   "outputs": [
    {
     "data": {
      "text/html": [
       "<div>\n",
       "<style scoped>\n",
       "    .dataframe tbody tr th:only-of-type {\n",
       "        vertical-align: middle;\n",
       "    }\n",
       "\n",
       "    .dataframe tbody tr th {\n",
       "        vertical-align: top;\n",
       "    }\n",
       "\n",
       "    .dataframe thead th {\n",
       "        text-align: right;\n",
       "    }\n",
       "</style>\n",
       "<table border=\"1\" class=\"dataframe\">\n",
       "  <thead>\n",
       "    <tr style=\"text-align: right;\">\n",
       "      <th></th>\n",
       "      <th>Name</th>\n",
       "      <th>Age</th>\n",
       "      <th>City</th>\n",
       "    </tr>\n",
       "  </thead>\n",
       "  <tbody>\n",
       "    <tr>\n",
       "      <th>0</th>\n",
       "      <td>John</td>\n",
       "      <td>28</td>\n",
       "      <td>New York</td>\n",
       "    </tr>\n",
       "    <tr>\n",
       "      <th>1</th>\n",
       "      <td>Anna</td>\n",
       "      <td>34</td>\n",
       "      <td>Paris</td>\n",
       "    </tr>\n",
       "    <tr>\n",
       "      <th>2</th>\n",
       "      <td>Peter</td>\n",
       "      <td>29</td>\n",
       "      <td>Berlin</td>\n",
       "    </tr>\n",
       "    <tr>\n",
       "      <th>3</th>\n",
       "      <td>Linda</td>\n",
       "      <td>32</td>\n",
       "      <td>London</td>\n",
       "    </tr>\n",
       "  </tbody>\n",
       "</table>\n",
       "</div>"
      ],
      "text/plain": [
       "    Name  Age      City\n",
       "0   John   28  New York\n",
       "1   Anna   34     Paris\n",
       "2  Peter   29    Berlin\n",
       "3  Linda   32    London"
      ]
     },
     "execution_count": 6,
     "metadata": {},
     "output_type": "execute_result"
    }
   ],
   "source": [
    "import pandas as pd\n",
    "   \n",
    "data = {'Name': ['John', 'Anna', 'Peter', 'Linda'],\n",
    "           'Age': [28, 34, 29, 32],\n",
    "           'City': ['New York', 'Paris', 'Berlin', 'London']}\n",
    "   \n",
    "df = pd.DataFrame(data)\n",
    "df"
   ]
  },
  {
   "cell_type": "markdown",
   "id": "8237391c-e471-446d-95c3-212fb3989aee",
   "metadata": {},
   "source": [
    "# DataFrame as a Generalized NumPy Array"
   ]
  },
  {
   "cell_type": "markdown",
   "id": "e6ce0263-af67-48f8-ac2c-c65513b712dc",
   "metadata": {},
   "source": [
    "Key Differences from NumPy Arrays:\n",
    "\n",
    "    * Labeled axes (rows and columns)\n",
    "    * Ability to contain multiple data types across columns\n"
   ]
  },
  {
   "cell_type": "markdown",
   "id": "62ba5fe6-8328-44b5-b009-5623fa793c6e",
   "metadata": {},
   "source": [
    "#### Creating a DataFrame:\n",
    "**Combines two Series (names and arts) into a single DataFrame**"
   ]
  },
  {
   "cell_type": "code",
   "execution_count": 17,
   "id": "207a31dd-b7f9-45f7-b839-f6d5660c9d93",
   "metadata": {},
   "outputs": [],
   "source": [
    "name_dict = {'Aardra': 111, 'Arya': 112, 'Federy': 113,\n",
    "                'Riya': 114, 'Sree': 115}\n",
    "names = pd.Series(name_dict)\n",
    "\n",
    "\n",
    "art_dict = {'Aardra': 'Music', 'Arya': 'Dance', 'Federy': 'Flute',\n",
    "                'Riya': 'Music', 'Sree': 'Dance'}\n",
    "arts = pd.Series(art_dict)"
   ]
  },
  {
   "cell_type": "code",
   "execution_count": 23,
   "id": "39ac3977-71ab-4554-bb3d-1ed682df825c",
   "metadata": {},
   "outputs": [
    {
     "data": {
      "text/html": [
       "<div>\n",
       "<style scoped>\n",
       "    .dataframe tbody tr th:only-of-type {\n",
       "        vertical-align: middle;\n",
       "    }\n",
       "\n",
       "    .dataframe tbody tr th {\n",
       "        vertical-align: top;\n",
       "    }\n",
       "\n",
       "    .dataframe thead th {\n",
       "        text-align: right;\n",
       "    }\n",
       "</style>\n",
       "<table border=\"1\" class=\"dataframe\">\n",
       "  <thead>\n",
       "    <tr style=\"text-align: right;\">\n",
       "      <th></th>\n",
       "      <th>names</th>\n",
       "      <th>arts</th>\n",
       "    </tr>\n",
       "  </thead>\n",
       "  <tbody>\n",
       "    <tr>\n",
       "      <th>Aardra</th>\n",
       "      <td>111</td>\n",
       "      <td>Music</td>\n",
       "    </tr>\n",
       "    <tr>\n",
       "      <th>Arya</th>\n",
       "      <td>112</td>\n",
       "      <td>Dance</td>\n",
       "    </tr>\n",
       "    <tr>\n",
       "      <th>Federy</th>\n",
       "      <td>113</td>\n",
       "      <td>Flute</td>\n",
       "    </tr>\n",
       "    <tr>\n",
       "      <th>Riya</th>\n",
       "      <td>114</td>\n",
       "      <td>Music</td>\n",
       "    </tr>\n",
       "    <tr>\n",
       "      <th>Sree</th>\n",
       "      <td>115</td>\n",
       "      <td>Dance</td>\n",
       "    </tr>\n",
       "  </tbody>\n",
       "</table>\n",
       "</div>"
      ],
      "text/plain": [
       "        names   arts\n",
       "Aardra    111  Music\n",
       "Arya      112  Dance\n",
       "Federy    113  Flute\n",
       "Riya      114  Music\n",
       "Sree      115  Dance"
      ]
     },
     "execution_count": 23,
     "metadata": {},
     "output_type": "execute_result"
    }
   ],
   "source": [
    "DF = pd.DataFrame({'names': names, 'arts': arts})\n",
    "DF"
   ]
  },
  {
   "cell_type": "markdown",
   "id": "6c68d16c-a52f-4eac-aa1c-7121c52d8459",
   "metadata": {},
   "source": [
    "**DataFrame Components:**"
   ]
  },
  {
   "cell_type": "code",
   "execution_count": 26,
   "id": "90b5c76e-3682-4aae-8527-8453d51b8c4a",
   "metadata": {},
   "outputs": [
    {
     "name": "stdout",
     "output_type": "stream",
     "text": [
      "Index(['Aardra', 'Arya', 'Federy', 'Riya', 'Sree'], dtype='object')\n",
      "Index(['names', 'arts'], dtype='object')\n"
     ]
    }
   ],
   "source": [
    "print(DF.index)\n",
    "print(DF.columns)"
   ]
  },
  {
   "cell_type": "markdown",
   "id": "efe48d8a-e91a-41b6-bf46-208c2f766a60",
   "metadata": {},
   "source": [
    "## DataFrame as specialized dictionary"
   ]
  },
  {
   "cell_type": "markdown",
   "id": "6d74c9b1-090a-44f2-8665-f8f5ff5172e4",
   "metadata": {},
   "source": [
    "DataFrame can be thought of as a specialized dictionary where each column name maps to a Series of data. \n",
    "* Each column in a DataFrame is essentially a Series, and the column name acts as the key to access that Series.\n",
    "\n",
    "**Accessing columns:**"
   ]
  },
  {
   "cell_type": "code",
   "execution_count": 34,
   "id": "06eadf45-94bb-4c89-88c8-363a42aeeebe",
   "metadata": {},
   "outputs": [
    {
     "data": {
      "text/plain": [
       "Aardra    111\n",
       "Arya      112\n",
       "Federy    113\n",
       "Riya      114\n",
       "Sree      115\n",
       "Name: names, dtype: int64"
      ]
     },
     "execution_count": 34,
     "metadata": {},
     "output_type": "execute_result"
    }
   ],
   "source": [
    "DF['names']"
   ]
  },
  {
   "cell_type": "markdown",
   "id": "b54d6522-8570-4b3e-a80c-95c057f92577",
   "metadata": {},
   "source": [
    "1. Difference from NumPy arrays:\n",
    "* In a 2D NumPy array, data[0] returns the first row.\n",
    "* In a pandas DataFrame, data['col0'] returns the first column.\n",
    "\n",
    "2. Conceptual model:\n",
    "* While DataFrames can be viewed as either generalized dictionaries or generalized arrays, the dictionary analogy is often more intuitive, especially when working with named columns.\n",
    "\n",
    "3. Further indexing:\n",
    "* .loc[] for label-based indexing\n",
    "* .iloc[] for integer-based indexing\n",
    "* Boolean indexing\n",
    "* Multi-level indexing"
   ]
  },
  {
   "cell_type": "code",
   "execution_count": 39,
   "id": "d2f4cfc5-1895-4b72-8c0d-6126500a20fa",
   "metadata": {},
   "outputs": [],
   "source": [
    "import pandas as pd\n",
    "\n",
    "# Create a sample DataFrame\n",
    "data = {\n",
    "    'state': ['California', 'Texas', 'Florida', 'New York'],\n",
    "    'area': [423970, 695662, 170312, 141297],\n",
    "    'population': [39538223, 29145505, 21538187, 20201249]\n",
    "}\n",
    "\n",
    "states = pd.DataFrame(data)"
   ]
  },
  {
   "cell_type": "code",
   "execution_count": 41,
   "id": "e27d3cfb-38f3-4d2a-9011-f648f49e8d86",
   "metadata": {},
   "outputs": [
    {
     "name": "stdout",
     "output_type": "stream",
     "text": [
      "0    423970\n",
      "1    695662\n",
      "2    170312\n",
      "3    141297\n",
      "Name: area, dtype: int64\n"
     ]
    }
   ],
   "source": [
    "# Access the 'area' column\n",
    "print(states['area'])"
   ]
  },
  {
   "cell_type": "code",
   "execution_count": 43,
   "id": "9bdc9eb6-b8fa-4850-bde4-f5f08cc718d5",
   "metadata": {},
   "outputs": [
    {
     "name": "stdout",
     "output_type": "stream",
     "text": [
      "state         California\n",
      "area              423970\n",
      "population      39538223\n",
      "Name: 0, dtype: object\n"
     ]
    }
   ],
   "source": [
    "# Access the first row\n",
    "print(states.iloc[0])"
   ]
  },
  {
   "cell_type": "code",
   "execution_count": 45,
   "id": "05bb04e7-c00d-470e-abf3-e815b1be4a5e",
   "metadata": {},
   "outputs": [
    {
     "name": "stdout",
     "output_type": "stream",
     "text": [
      "0    423970\n",
      "Name: area, dtype: int64\n"
     ]
    }
   ],
   "source": [
    "# Access the 'area' for 'California'\n",
    "print(states.loc[states['state'] == 'California', 'area'])"
   ]
  },
  {
   "cell_type": "markdown",
   "id": "44c9bec4-8dd8-4612-b1eb-faa65853591a",
   "metadata": {},
   "source": [
    "## **Constructing DataFrames:**\n",
    "\n",
    "1. From a single Series\n",
    "2. From a list of dictionaries\n",
    "3. From a dictionary of Series objects\n",
    "4. From a two-dimensional NumPy array\n",
    "5. From a NumPy structured array"
   ]
  },
  {
   "cell_type": "code",
   "execution_count": 52,
   "id": "ee2fc480-6b7b-49f6-943c-912566b8e52b",
   "metadata": {},
   "outputs": [
    {
     "data": {
      "text/html": [
       "<div>\n",
       "<style scoped>\n",
       "    .dataframe tbody tr th:only-of-type {\n",
       "        vertical-align: middle;\n",
       "    }\n",
       "\n",
       "    .dataframe tbody tr th {\n",
       "        vertical-align: top;\n",
       "    }\n",
       "\n",
       "    .dataframe thead th {\n",
       "        text-align: right;\n",
       "    }\n",
       "</style>\n",
       "<table border=\"1\" class=\"dataframe\">\n",
       "  <thead>\n",
       "    <tr style=\"text-align: right;\">\n",
       "      <th></th>\n",
       "      <th>population</th>\n",
       "    </tr>\n",
       "  </thead>\n",
       "  <tbody>\n",
       "    <tr>\n",
       "      <th>California</th>\n",
       "      <td>38332521</td>\n",
       "    </tr>\n",
       "    <tr>\n",
       "      <th>Florida</th>\n",
       "      <td>19552860</td>\n",
       "    </tr>\n",
       "    <tr>\n",
       "      <th>Illinois</th>\n",
       "      <td>12882135</td>\n",
       "    </tr>\n",
       "    <tr>\n",
       "      <th>New York</th>\n",
       "      <td>19651127</td>\n",
       "    </tr>\n",
       "    <tr>\n",
       "      <th>Texas</th>\n",
       "      <td>26448193</td>\n",
       "    </tr>\n",
       "  </tbody>\n",
       "</table>\n",
       "</div>"
      ],
      "text/plain": [
       "            population\n",
       "California    38332521\n",
       "Florida       19552860\n",
       "Illinois      12882135\n",
       "New York      19651127\n",
       "Texas         26448193"
      ]
     },
     "execution_count": 52,
     "metadata": {},
     "output_type": "execute_result"
    }
   ],
   "source": [
    "import pandas as pd\n",
    "import numpy as np\n",
    "\n",
    "# From a single Series\n",
    "population = pd.Series([38332521, 19552860, 12882135, 19651127, 26448193],\n",
    "                       index=['California', 'Florida', 'Illinois', 'New York', 'Texas'])\n",
    "df = pd.DataFrame(population, columns=['population'])\n",
    "df"
   ]
  },
  {
   "cell_type": "code",
   "execution_count": 54,
   "id": "fe256198-f930-4060-8fe6-d3d6930c2c5f",
   "metadata": {},
   "outputs": [
    {
     "data": {
      "text/html": [
       "<div>\n",
       "<style scoped>\n",
       "    .dataframe tbody tr th:only-of-type {\n",
       "        vertical-align: middle;\n",
       "    }\n",
       "\n",
       "    .dataframe tbody tr th {\n",
       "        vertical-align: top;\n",
       "    }\n",
       "\n",
       "    .dataframe thead th {\n",
       "        text-align: right;\n",
       "    }\n",
       "</style>\n",
       "<table border=\"1\" class=\"dataframe\">\n",
       "  <thead>\n",
       "    <tr style=\"text-align: right;\">\n",
       "      <th></th>\n",
       "      <th>a</th>\n",
       "      <th>b</th>\n",
       "    </tr>\n",
       "  </thead>\n",
       "  <tbody>\n",
       "    <tr>\n",
       "      <th>0</th>\n",
       "      <td>0</td>\n",
       "      <td>0</td>\n",
       "    </tr>\n",
       "    <tr>\n",
       "      <th>1</th>\n",
       "      <td>1</td>\n",
       "      <td>2</td>\n",
       "    </tr>\n",
       "    <tr>\n",
       "      <th>2</th>\n",
       "      <td>2</td>\n",
       "      <td>4</td>\n",
       "    </tr>\n",
       "  </tbody>\n",
       "</table>\n",
       "</div>"
      ],
      "text/plain": [
       "   a  b\n",
       "0  0  0\n",
       "1  1  2\n",
       "2  2  4"
      ]
     },
     "execution_count": 54,
     "metadata": {},
     "output_type": "execute_result"
    }
   ],
   "source": [
    "# From a list of dicts\n",
    "data = [{'a': i, 'b': 2 * i} for i in range(3)]\n",
    "df = pd.DataFrame(data)\n",
    "df"
   ]
  },
  {
   "cell_type": "code",
   "execution_count": 60,
   "id": "7e3d6ba3-32f9-4844-a6fa-d9edf020d1b0",
   "metadata": {},
   "outputs": [
    {
     "data": {
      "text/html": [
       "<div>\n",
       "<style scoped>\n",
       "    .dataframe tbody tr th:only-of-type {\n",
       "        vertical-align: middle;\n",
       "    }\n",
       "\n",
       "    .dataframe tbody tr th {\n",
       "        vertical-align: top;\n",
       "    }\n",
       "\n",
       "    .dataframe thead th {\n",
       "        text-align: right;\n",
       "    }\n",
       "</style>\n",
       "<table border=\"1\" class=\"dataframe\">\n",
       "  <thead>\n",
       "    <tr style=\"text-align: right;\">\n",
       "      <th></th>\n",
       "      <th>a</th>\n",
       "      <th>b</th>\n",
       "      <th>c</th>\n",
       "    </tr>\n",
       "  </thead>\n",
       "  <tbody>\n",
       "    <tr>\n",
       "      <th>0</th>\n",
       "      <td>1.0</td>\n",
       "      <td>2</td>\n",
       "      <td>NaN</td>\n",
       "    </tr>\n",
       "    <tr>\n",
       "      <th>1</th>\n",
       "      <td>NaN</td>\n",
       "      <td>3</td>\n",
       "      <td>4.0</td>\n",
       "    </tr>\n",
       "  </tbody>\n",
       "</table>\n",
       "</div>"
      ],
      "text/plain": [
       "     a  b    c\n",
       "0  1.0  2  NaN\n",
       "1  NaN  3  4.0"
      ]
     },
     "execution_count": 60,
     "metadata": {},
     "output_type": "execute_result"
    }
   ],
   "source": [
    "pd.DataFrame([{'a': 1, 'b': 2}, {'b': 3, 'c': 4}])"
   ]
  },
  {
   "cell_type": "code",
   "execution_count": 56,
   "id": "a3a611da-cbf7-4d8b-993c-9768458c813c",
   "metadata": {},
   "outputs": [
    {
     "data": {
      "text/html": [
       "<div>\n",
       "<style scoped>\n",
       "    .dataframe tbody tr th:only-of-type {\n",
       "        vertical-align: middle;\n",
       "    }\n",
       "\n",
       "    .dataframe tbody tr th {\n",
       "        vertical-align: top;\n",
       "    }\n",
       "\n",
       "    .dataframe thead th {\n",
       "        text-align: right;\n",
       "    }\n",
       "</style>\n",
       "<table border=\"1\" class=\"dataframe\">\n",
       "  <thead>\n",
       "    <tr style=\"text-align: right;\">\n",
       "      <th></th>\n",
       "      <th>population</th>\n",
       "      <th>area</th>\n",
       "    </tr>\n",
       "  </thead>\n",
       "  <tbody>\n",
       "    <tr>\n",
       "      <th>California</th>\n",
       "      <td>38332521</td>\n",
       "      <td>423967</td>\n",
       "    </tr>\n",
       "    <tr>\n",
       "      <th>Florida</th>\n",
       "      <td>19552860</td>\n",
       "      <td>170312</td>\n",
       "    </tr>\n",
       "    <tr>\n",
       "      <th>Illinois</th>\n",
       "      <td>12882135</td>\n",
       "      <td>149995</td>\n",
       "    </tr>\n",
       "    <tr>\n",
       "      <th>New York</th>\n",
       "      <td>19651127</td>\n",
       "      <td>141297</td>\n",
       "    </tr>\n",
       "    <tr>\n",
       "      <th>Texas</th>\n",
       "      <td>26448193</td>\n",
       "      <td>695662</td>\n",
       "    </tr>\n",
       "  </tbody>\n",
       "</table>\n",
       "</div>"
      ],
      "text/plain": [
       "            population    area\n",
       "California    38332521  423967\n",
       "Florida       19552860  170312\n",
       "Illinois      12882135  149995\n",
       "New York      19651127  141297\n",
       "Texas         26448193  695662"
      ]
     },
     "execution_count": 56,
     "metadata": {},
     "output_type": "execute_result"
    }
   ],
   "source": [
    "# From a dictionary of Series\n",
    "area = pd.Series([423967, 170312, 149995, 141297, 695662],\n",
    "                 index=['California', 'Florida', 'Illinois', 'New York', 'Texas'])\n",
    "df = pd.DataFrame({'population': population, 'area': area})\n",
    "df"
   ]
  },
  {
   "cell_type": "code",
   "execution_count": 58,
   "id": "3e048223-68cf-4771-b509-a79a0d77245d",
   "metadata": {},
   "outputs": [
    {
     "data": {
      "text/html": [
       "<div>\n",
       "<style scoped>\n",
       "    .dataframe tbody tr th:only-of-type {\n",
       "        vertical-align: middle;\n",
       "    }\n",
       "\n",
       "    .dataframe tbody tr th {\n",
       "        vertical-align: top;\n",
       "    }\n",
       "\n",
       "    .dataframe thead th {\n",
       "        text-align: right;\n",
       "    }\n",
       "</style>\n",
       "<table border=\"1\" class=\"dataframe\">\n",
       "  <thead>\n",
       "    <tr style=\"text-align: right;\">\n",
       "      <th></th>\n",
       "      <th>foo</th>\n",
       "      <th>bar</th>\n",
       "    </tr>\n",
       "  </thead>\n",
       "  <tbody>\n",
       "    <tr>\n",
       "      <th>a</th>\n",
       "      <td>0.304137</td>\n",
       "      <td>0.131905</td>\n",
       "    </tr>\n",
       "    <tr>\n",
       "      <th>b</th>\n",
       "      <td>0.684456</td>\n",
       "      <td>0.695771</td>\n",
       "    </tr>\n",
       "    <tr>\n",
       "      <th>c</th>\n",
       "      <td>0.688643</td>\n",
       "      <td>0.974269</td>\n",
       "    </tr>\n",
       "  </tbody>\n",
       "</table>\n",
       "</div>"
      ],
      "text/plain": [
       "        foo       bar\n",
       "a  0.304137  0.131905\n",
       "b  0.684456  0.695771\n",
       "c  0.688643  0.974269"
      ]
     },
     "execution_count": 58,
     "metadata": {},
     "output_type": "execute_result"
    }
   ],
   "source": [
    "# From a 2D NumPy array\n",
    "df = pd.DataFrame(np.random.rand(3, 2), columns=['foo', 'bar'], index=['a', 'b', 'c'])\n",
    "df"
   ]
  },
  {
   "cell_type": "code",
   "execution_count": 62,
   "id": "9584c119-d1d2-4244-b9e3-989e0488551e",
   "metadata": {},
   "outputs": [
    {
     "data": {
      "text/html": [
       "<div>\n",
       "<style scoped>\n",
       "    .dataframe tbody tr th:only-of-type {\n",
       "        vertical-align: middle;\n",
       "    }\n",
       "\n",
       "    .dataframe tbody tr th {\n",
       "        vertical-align: top;\n",
       "    }\n",
       "\n",
       "    .dataframe thead th {\n",
       "        text-align: right;\n",
       "    }\n",
       "</style>\n",
       "<table border=\"1\" class=\"dataframe\">\n",
       "  <thead>\n",
       "    <tr style=\"text-align: right;\">\n",
       "      <th></th>\n",
       "      <th>A</th>\n",
       "      <th>B</th>\n",
       "    </tr>\n",
       "  </thead>\n",
       "  <tbody>\n",
       "    <tr>\n",
       "      <th>0</th>\n",
       "      <td>0</td>\n",
       "      <td>0.0</td>\n",
       "    </tr>\n",
       "    <tr>\n",
       "      <th>1</th>\n",
       "      <td>0</td>\n",
       "      <td>0.0</td>\n",
       "    </tr>\n",
       "    <tr>\n",
       "      <th>2</th>\n",
       "      <td>0</td>\n",
       "      <td>0.0</td>\n",
       "    </tr>\n",
       "  </tbody>\n",
       "</table>\n",
       "</div>"
      ],
      "text/plain": [
       "   A    B\n",
       "0  0  0.0\n",
       "1  0  0.0\n",
       "2  0  0.0"
      ]
     },
     "execution_count": 62,
     "metadata": {},
     "output_type": "execute_result"
    }
   ],
   "source": [
    "#From NumPy Structured Array\n",
    "A = np.zeros(3, dtype=[('A', 'i8'), ('B', 'f8')])\n",
    "A\n",
    "pd.DataFrame(A)"
   ]
  },
  {
   "cell_type": "code",
   "execution_count": null,
   "id": "d9b8e2b6-6858-48b7-9e27-22455b2f9686",
   "metadata": {},
   "outputs": [],
   "source": []
  }
 ],
 "metadata": {
  "kernelspec": {
   "display_name": "Python 3 (ipykernel)",
   "language": "python",
   "name": "python3"
  },
  "language_info": {
   "codemirror_mode": {
    "name": "ipython",
    "version": 3
   },
   "file_extension": ".py",
   "mimetype": "text/x-python",
   "name": "python",
   "nbconvert_exporter": "python",
   "pygments_lexer": "ipython3",
   "version": "3.12.4"
  }
 },
 "nbformat": 4,
 "nbformat_minor": 5
}
