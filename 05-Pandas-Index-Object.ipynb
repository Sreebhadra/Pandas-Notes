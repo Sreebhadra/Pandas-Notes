{
 "cells": [
  {
   "cell_type": "code",
   "execution_count": null,
   "id": "b2c6feb4-3646-43f8-afb1-b395a60d5091",
   "metadata": {},
   "outputs": [],
   "source": [
    "The Pandas Index Object:\n",
    "\n",
    "Can be viewed as an immutable array or an ordered set\n",
    "Supports array-like indexing and slicing\n",
    "Has attributes similar to NumPy arrays (size, shape, ndim, dtype)\n",
    "Is immutable (cannot be modified after creation)\n",
    "Supports set operations (union, intersection, difference)"
   ]
  },
  {
   "cell_type": "code",
   "execution_count": 9,
   "id": "985e0f8b-35e7-47ad-80db-13865646e30b",
   "metadata": {},
   "outputs": [
    {
     "name": "stdout",
     "output_type": "stream",
     "text": [
      "Index([2, 3, 5, 7, 11], dtype='int64')\n"
     ]
    }
   ],
   "source": [
    "# Creating an Index\n",
    "import pandas as pd\n",
    "\n",
    "ind = pd.Index([2, 3, 5, 7, 11])\n",
    "print(ind)\n"
   ]
  },
  {
   "cell_type": "markdown",
   "id": "a477d8f9-5fcd-4ab9-8736-4c93eb54b940",
   "metadata": {},
   "source": [
    "**Index as immutable array**"
   ]
  },
  {
   "cell_type": "code",
   "execution_count": 14,
   "id": "896f586a-a6ed-44bd-ad43-8c65d74c175f",
   "metadata": {},
   "outputs": [
    {
     "name": "stdout",
     "output_type": "stream",
     "text": [
      "3\n",
      "Index([2, 5, 11], dtype='int64')\n",
      "5 (5,) 1 int64\n",
      "Error: Index does not support mutable operations\n"
     ]
    }
   ],
   "source": [
    "# Accessing elements\n",
    "print(ind[1])  # 3\n",
    "\n",
    "# Slicing\n",
    "print(ind[::2])  # Int64Index([2, 5, 11], dtype='int64')\n",
    "\n",
    "# Array-like attributes\n",
    "print(ind.size, ind.shape, ind.ndim, ind.dtype)  # 5 (5,) 1 int64\n",
    "\n",
    "# Demonstrating immutability\n",
    "try:\n",
    "    ind[1] = 0\n",
    "except TypeError as e:\n",
    "    print(f\"Error: {e}\")"
   ]
  },
  {
   "cell_type": "markdown",
   "id": "8936007a-fa4f-4402-a5ce-fc40f9cc9bd4",
   "metadata": {},
   "source": [
    "**Index as an ordered set**"
   ]
  },
  {
   "cell_type": "code",
   "execution_count": 17,
   "id": "b18a7f2b-0b1f-4d6e-8e48-b7e34e490182",
   "metadata": {},
   "outputs": [
    {
     "name": "stdout",
     "output_type": "stream",
     "text": [
      "Index([0, 3, 5, 7, 9], dtype='int64')\n",
      "Index([3, 3, 5, 7, 11], dtype='int64')\n",
      "Index([3, 0, 0, 0, 2], dtype='int64')\n",
      "Index([3, 5, 7], dtype='int64')\n"
     ]
    }
   ],
   "source": [
    "indA = pd.Index([1, 3, 5, 7, 9])\n",
    "indB = pd.Index([2, 3, 5, 7, 11])\n",
    "\n",
    "# Intersection\n",
    "print(indA & indB)  # Int64Index([3, 5, 7], dtype='int64')\n",
    "\n",
    "# Union\n",
    "print(indA | indB)  # Int64Index([1, 2, 3, 5, 7, 9, 11], dtype='int64')\n",
    "\n",
    "# Symmetric difference\n",
    "print(indA ^ indB)  # Int64Index([1, 2, 9, 11], dtype='int64')\n",
    "\n",
    "# Using method syntax\n",
    "print(indA.intersection(indB))  # Int64Index([3, 5, 7], dtype='int64')"
   ]
  },
  {
   "cell_type": "markdown",
   "id": "c1d95d6b-1019-44d7-9863-8fae3fa1fee8",
   "metadata": {},
   "source": [
    "These features of the Index object make it particularly useful for:\n",
    "\n",
    "- Data alignment: When performing operations between different pandas objects, the Index is used to align the data correctly.\n",
    "- Efficient data retrieval: The Index allows for fast lookup of data by label.\n",
    "- Set operations: Useful for combining or comparing datasets.\n",
    "- MultiIndex: For hierarchical indexing, allowing you to have multiple levels of indices.\n",
    "\n",
    "Here's an example demonstrating how the Index is used for data alignment:"
   ]
  },
  {
   "cell_type": "code",
   "execution_count": 20,
   "id": "244cc3ad-e9b8-483e-ae39-736d3f3aa99f",
   "metadata": {},
   "outputs": [
    {
     "name": "stdout",
     "output_type": "stream",
     "text": [
      "a    NaN\n",
      "b    4.0\n",
      "c    6.0\n",
      "d    NaN\n",
      "e    NaN\n",
      "dtype: float64\n"
     ]
    }
   ],
   "source": [
    "s1 = pd.Series([0, 1, 2], index=['a', 'b', 'c'])\n",
    "s2 = pd.Series([3, 4, 5, 6], index=['b', 'c', 'd', 'e'])\n",
    "\n",
    "print(s1 + s2)"
   ]
  },
  {
   "cell_type": "raw",
   "id": "2c768550-71a1-43ac-aa55-f74e9103967e",
   "metadata": {},
   "source": [
    "In this example, pandas uses the Index to align the data from both Series before performing the addition. Where indices match, the operation is performed; where they don't, the result is NaN."
   ]
  },
  {
   "cell_type": "code",
   "execution_count": null,
   "id": "89ff8938-c616-4f7f-b88b-d862c0b21e74",
   "metadata": {},
   "outputs": [],
   "source": []
  }
 ],
 "metadata": {
  "kernelspec": {
   "display_name": "Python 3 (ipykernel)",
   "language": "python",
   "name": "python3"
  },
  "language_info": {
   "codemirror_mode": {
    "name": "ipython",
    "version": 3
   },
   "file_extension": ".py",
   "mimetype": "text/x-python",
   "name": "python",
   "nbconvert_exporter": "python",
   "pygments_lexer": "ipython3",
   "version": "3.12.4"
  }
 },
 "nbformat": 4,
 "nbformat_minor": 5
}
