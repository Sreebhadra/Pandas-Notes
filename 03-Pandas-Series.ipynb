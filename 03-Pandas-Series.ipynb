{
 "cells": [
  {
   "cell_type": "markdown",
   "id": "b9718c50-1d51-4478-9779-a47147df2e9e",
   "metadata": {},
   "source": [
    "# **Understanding Pandas Series**\n",
    "\n",
    "1. Definition of a Pandas Series:\n",
    "   * A one-dimensional array of indexed data\n",
    "   * Similar to a column in a spreadsheet or a single column of a DataFrame\n",
    "\n",
    "2. Creating a Series:"
   ]
  },
  {
   "cell_type": "code",
   "execution_count": 7,
   "id": "91319a88-71da-4423-97c1-25400114a687",
   "metadata": {},
   "outputs": [
    {
     "data": {
      "text/plain": [
       "0    0.25\n",
       "1    0.50\n",
       "2    0.75\n",
       "3    1.00\n",
       "dtype: float64"
      ]
     },
     "execution_count": 7,
     "metadata": {},
     "output_type": "execute_result"
    }
   ],
   "source": [
    "import numpy as np\n",
    "import pandas as pd\n",
    "data = pd.Series([0.25, 0.5, 0.75, 1.0])\n",
    "data\n",
    "\n",
    "#Left side: index (0, 1, 2, 3)\n",
    "#Right side: values (0.25, 0.50, 0.75, 1.00)\n",
    "#dtype: data type of the values (float64)"
   ]
  },
  {
   "cell_type": "code",
   "execution_count": 23,
   "id": "99a24380-ab76-4cc8-ae10-27c841fb2930",
   "metadata": {},
   "outputs": [
    {
     "name": "stdout",
     "output_type": "stream",
     "text": [
      "[0.25 0.5  0.75 1.  ]\n",
      "RangeIndex(start=0, stop=4, step=1)\n"
     ]
    }
   ],
   "source": [
    "#Accessing Series Components\n",
    "print(data.values) #returns a NumPy array of the values\n",
    "print(data.index) #returns the index object\n",
    "\n"
   ]
  },
  {
   "cell_type": "code",
   "execution_count": 33,
   "id": "f82060f7-8dd1-410e-a5ca-c4a79b8556b6",
   "metadata": {},
   "outputs": [
    {
     "name": "stdout",
     "output_type": "stream",
     "text": [
      "0.5\n",
      "1    0.50\n",
      "2    0.75\n",
      "dtype: float64\n"
     ]
    }
   ],
   "source": [
    "#ACCESSING DATA\n",
    "print(data[1]) #By integer index: data[1] returns 0.5\n",
    "print(data[1:3]) #Slicing: data[1:3] returns a new Series with index 1 and 2"
   ]
  },
  {
   "cell_type": "markdown",
   "id": "87316e6a-bf59-4cb2-8192-aa9b25490048",
   "metadata": {},
   "source": [
    "**Key Points:**\n",
    "\n",
    "* A Series combines a sequence of values with a sequence of indices\n",
    "* It's similar to a NumPy array but with added functionality\n",
    "* The index doesn't have to be integers; it can be any unique labels\n",
    "*You can access elements using familiar Python square-bracket notation"
   ]
  },
  {
   "cell_type": "markdown",
   "id": "57176609-ced1-45b1-8498-9ffb801a961e",
   "metadata": {},
   "source": [
    "### **Flexible Indexing- Series as generalized NumPy Array**\n",
    "\n",
    "1. Series vs. NumPy Array:\n",
    "   * The key difference is the presence of an explicit index in Series.\n",
    "   * NumPy arrays have an implicit integer index.\n",
    "   * Pandas Series have an explicitly defined index associated with values.\n",
    "\n",
    "2. Flexible Index:\n",
    "   * The index in a Series doesn't have to be integers.\n",
    "   * It can be any data type, including strings or even custom objects.\n",
    "\n",
    "3. String Index Example:"
   ]
  },
  {
   "cell_type": "code",
   "execution_count": 40,
   "id": "5cc571bf-8908-454a-b4a8-5113898c2a3d",
   "metadata": {},
   "outputs": [
    {
     "data": {
      "text/plain": [
       "a    0.25\n",
       "b    0.50\n",
       "c    0.75\n",
       "d    1.00\n",
       "dtype: float64"
      ]
     },
     "execution_count": 40,
     "metadata": {},
     "output_type": "execute_result"
    }
   ],
   "source": [
    "data = pd.Series([0.25, 0.5, 0.75, 1.0], index=['a', 'b', 'c', 'd'])\n",
    "data"
   ]
  },
  {
   "cell_type": "code",
   "execution_count": 42,
   "id": "e1757b70-03c1-44bd-bb0d-563f484b8783",
   "metadata": {},
   "outputs": [
    {
     "data": {
      "text/plain": [
       "0.5"
      ]
     },
     "execution_count": 42,
     "metadata": {},
     "output_type": "execute_result"
    }
   ],
   "source": [
    "#Accessing with String Index:\n",
    "data['b']"
   ]
  },
  {
   "cell_type": "code",
   "execution_count": 46,
   "id": "f9ffcc52-553d-47f0-8d47-07bfc642a552",
   "metadata": {},
   "outputs": [
    {
     "data": {
      "text/plain": [
       "2    0.25\n",
       "5    0.50\n",
       "3    0.75\n",
       "7    1.00\n",
       "dtype: float64"
      ]
     },
     "execution_count": 46,
     "metadata": {},
     "output_type": "execute_result"
    }
   ],
   "source": [
    "#Non-sequential Index:\n",
    "data = pd.Series([0.25, 0.5, 0.75, 1.0], index=[2, 5, 3, 7])\n",
    "data\n",
    "\n",
    "#The index doesn't need to be sequential or contiguous."
   ]
  },
  {
   "cell_type": "code",
   "execution_count": 48,
   "id": "a124f4e6-51da-4334-b678-c0fa7fe5cced",
   "metadata": {},
   "outputs": [
    {
     "data": {
      "text/plain": [
       "0.5"
      ]
     },
     "execution_count": 48,
     "metadata": {},
     "output_type": "execute_result"
    }
   ],
   "source": [
    "#Accessing with Non-sequential Index:\n",
    "data[5]"
   ]
  },
  {
   "cell_type": "markdown",
   "id": "d3ebc8a2-514f-496a-a97a-6c4a35a11b26",
   "metadata": {},
   "source": [
    "**Key Points:**\n",
    "\n",
    "* The explicit index in Series provides more flexibility than NumPy arrays.\n",
    "* You can use various data types for the index, not just integers.\n",
    "* The index values don't need to be in any particular order or sequence.\n",
    "* You can access elements using the index values, regardless of their type or order.\n",
    "\n",
    "**This flexibility in indexing makes Series particularly useful for:**\n",
    "\n",
    "* Time series data (where the index could be timestamps)\n",
    "* Labeled data (where each data point has a meaningful label)\n",
    "* Sparse data (where you might have gaps in your sequence)"
   ]
  },
  {
   "cell_type": "markdown",
   "id": "e6073c85-0b58-4e61-9835-4dc1765ecb58",
   "metadata": {},
   "source": [
    "### **Pandas Series as a Specialized Dictionary**\n",
    "\n",
    "1. Series vs. Dictionary:\n",
    "   * A Python dictionary maps arbitrary keys to arbitrary values.\n",
    "   * A Pandas Series maps typed keys (index) to typed values.\n",
    "\n",
    "2. Advantages of Series:\n",
    "   * Type information makes Series more efficient for certain operations.\n",
    "   * Similar to how NumPy arrays are more efficient than Python lists for numerical operations.\n",
    "\n",
    "3. Creating a Series from a Dictionary:"
   ]
  },
  {
   "cell_type": "code",
   "execution_count": 58,
   "id": "6c2c7128-92f3-4b55-8349-500daa9ba6da",
   "metadata": {},
   "outputs": [
    {
     "data": {
      "text/plain": [
       "Kerala         111\n",
       "Karnataka      222\n",
       "Tamilnadu      333\n",
       "New Delhi      444\n",
       "Maharashtra    555\n",
       "dtype: int64"
      ]
     },
     "execution_count": 58,
     "metadata": {},
     "output_type": "execute_result"
    }
   ],
   "source": [
    "state_dict = {'Kerala': 111, 'Karnataka': 222, 'Tamilnadu': 333, 'New Delhi': 444, 'Maharashtra': 555}\n",
    "state = pd.Series(state_dict)\n",
    "state"
   ]
  },
  {
   "cell_type": "markdown",
   "id": "f82af4f9-0362-4a4c-b4b4-1eb0d8eb5fb5",
   "metadata": {},
   "source": [
    "4. Series Characteristics:\n",
    "\n",
    "* The index is automatically created from the dictionary keys.\n",
    "* The index is sorted alphabetically by default.\n",
    "\n",
    "5. Dictionary-style Access: "
   ]
  },
  {
   "cell_type": "code",
   "execution_count": 64,
   "id": "1d132051-b8b2-4814-9f65-a629fa3dede0",
   "metadata": {},
   "outputs": [
    {
     "data": {
      "text/plain": [
       "111"
      ]
     },
     "execution_count": 64,
     "metadata": {},
     "output_type": "execute_result"
    }
   ],
   "source": [
    "state['Kerala'] \n",
    "\n",
    "#You can access values using keys, just like in a dictionary."
   ]
  },
  {
   "cell_type": "markdown",
   "id": "f4818771-dc5c-4ed3-afb9-c10afd076ae2",
   "metadata": {},
   "source": [
    "6. Array-style Operations:"
   ]
  },
  {
   "cell_type": "code",
   "execution_count": 72,
   "id": "ad417857-15f5-4f10-9dbb-d5c15ebba5ef",
   "metadata": {},
   "outputs": [
    {
     "data": {
      "text/plain": [
       "Karnataka      222\n",
       "Tamilnadu      333\n",
       "New Delhi      444\n",
       "Maharashtra    555\n",
       "dtype: int64"
      ]
     },
     "execution_count": 72,
     "metadata": {},
     "output_type": "execute_result"
    }
   ],
   "source": [
    "state['Karnataka':'Maharashtra']\n",
    "\n",
    "#This slice operation returns a new Series with the specified range of items."
   ]
  },
  {
   "cell_type": "markdown",
   "id": "bed13cfd-c9d0-40a6-b9a1-484aeedd14ed",
   "metadata": {},
   "source": [
    "**Key Points:**\n",
    "\n",
    "* Series combines features of both dictionaries and arrays.\n",
    "* It provides dictionary-like key-based access.\n",
    "* It also supports array-like operations such as slicing.\n",
    "* The index (keys) in a Series is ordered, unlike in a standard Python dictionary.\n",
    "* Series maintains type consistency for both index and values.\n",
    "\n",
    "**Additional Considerations:**\n",
    "\n",
    "* The slicing operation in Series is inclusive of the end point, unlike standard Python slicing.\n",
    "* The order of items in the resulting Series is based on the sorted index, not the original order in the dictionary."
   ]
  },
  {
   "cell_type": "markdown",
   "id": "6503d86a-9274-4cbc-bd40-7e21bf7486b8",
   "metadata": {},
   "source": [
    "# Constructing Pandas Series Objects\n",
    "Basic Series Construction:\n",
    "   * General form: `pd.Series(data, index=index)`\n",
    "   * The `index` parameter is optional"
   ]
  },
  {
   "cell_type": "markdown",
   "id": "f4971ffd-0f7b-4818-aa7f-ef24c077b86c",
   "metadata": {},
   "source": [
    "1. Series from List or NumPy Array:\n",
    "   * Example: `pd.Series([2, 4, 6])`\n",
    "   * Default integer index (0, 1, 2) is created\n",
    "   * Data type is inferred automatically"
   ]
  },
  {
   "cell_type": "code",
   "execution_count": 85,
   "id": "43e95af1-ca35-49ef-9610-5bec61e1cc28",
   "metadata": {},
   "outputs": [
    {
     "data": {
      "text/plain": [
       "0    2\n",
       "1    4\n",
       "2    6\n",
       "dtype: int64"
      ]
     },
     "execution_count": 85,
     "metadata": {},
     "output_type": "execute_result"
    }
   ],
   "source": [
    "pd.Series([2, 4, 6])"
   ]
  },
  {
   "cell_type": "markdown",
   "id": "c337854b-ac0b-411b-abff-1f21cdbed263",
   "metadata": {},
   "source": [
    "2. Series from a Scalar:\n",
    "   * Example: `pd.Series(5, index=[100, 200, 300])`\n",
    "   * The scalar value is repeated for each index\n",
    "   * Useful for creating a Series with a constant value"
   ]
  },
  {
   "cell_type": "code",
   "execution_count": 88,
   "id": "52e8b799-d48f-4046-8171-1162d66a2c4f",
   "metadata": {},
   "outputs": [
    {
     "data": {
      "text/plain": [
       "100    5\n",
       "200    5\n",
       "300    5\n",
       "dtype: int64"
      ]
     },
     "execution_count": 88,
     "metadata": {},
     "output_type": "execute_result"
    }
   ],
   "source": [
    "pd.Series(5, index=[100, 200, 300])"
   ]
  },
  {
   "cell_type": "markdown",
   "id": "88896620-59fb-4cc5-8392-9202f1a1d924",
   "metadata": {},
   "source": [
    "3. Series from a Dictionary:\n",
    "   * Example: `pd.Series({2:'a', 1:'b', 3:'c'})`\n",
    "   * Dictionary keys become the index\n",
    "   * Index is sorted by default"
   ]
  },
  {
   "cell_type": "code",
   "execution_count": 91,
   "id": "db637eb6-67e0-465e-aa28-de379db300c4",
   "metadata": {},
   "outputs": [
    {
     "data": {
      "text/plain": [
       "2    a\n",
       "1    b\n",
       "3    c\n",
       "dtype: object"
      ]
     },
     "execution_count": 91,
     "metadata": {},
     "output_type": "execute_result"
    }
   ],
   "source": [
    "pd.Series({2:'a', 1:'b', 3:'c'})"
   ]
  },
  {
   "cell_type": "markdown",
   "id": "b37f42d8-19f4-403c-b210-9faf37f02a0b",
   "metadata": {},
   "source": [
    "4. Series with Explicit Index:\n",
    "   * Example: `pd.Series({2:'a', 1:'b', 3:'c'}, index=[3, 2])`\n",
    "   * Only includes data for specified index values\n",
    "   * Useful for selecting a subset of data"
   ]
  },
  {
   "cell_type": "code",
   "execution_count": 94,
   "id": "78232fc0-f13f-40d3-8c3f-37476d4b33cc",
   "metadata": {},
   "outputs": [
    {
     "data": {
      "text/plain": [
       "3    c\n",
       "2    a\n",
       "dtype: object"
      ]
     },
     "execution_count": 94,
     "metadata": {},
     "output_type": "execute_result"
    }
   ],
   "source": [
    "pd.Series({2:'a', 1:'b', 3:'c'}, index=[3, 2])"
   ]
  },
  {
   "cell_type": "code",
   "execution_count": null,
   "id": "f56ee640-dc05-4c30-bd97-d5852d9cd3ee",
   "metadata": {},
   "outputs": [],
   "source": []
  }
 ],
 "metadata": {
  "kernelspec": {
   "display_name": "Python 3 (ipykernel)",
   "language": "python",
   "name": "python3"
  },
  "language_info": {
   "codemirror_mode": {
    "name": "ipython",
    "version": 3
   },
   "file_extension": ".py",
   "mimetype": "text/x-python",
   "name": "python",
   "nbconvert_exporter": "python",
   "pygments_lexer": "ipython3",
   "version": "3.12.4"
  }
 },
 "nbformat": 4,
 "nbformat_minor": 5
}
