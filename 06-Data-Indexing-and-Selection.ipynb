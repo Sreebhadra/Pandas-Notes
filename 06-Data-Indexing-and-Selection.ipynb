{
 "cells": [
  {
   "cell_type": "markdown",
   "id": "01dbe597-2f57-4bce-8810-52d8ebdbed90",
   "metadata": {},
   "source": [
    "# Data Indexing and Selection\n",
    "\n",
    "Data indexing and selection refers to the methods used to access specific parts of your data in a structured format like a pandas Series or DataFrame. It's essentially about how you can retrieve, view, or modify particular pieces of information from your dataset.\n",
    "\n",
    "## Key points about data indexing and selection:\n",
    "\n",
    "1. It allows you to access specific elements, rows, columns, or subsets of your data.\n",
    "\n",
    "2. You can select data based on labels (like column names or row indices), numerical positions, or conditions.\n",
    "\n",
    "3. It's a fundamental operation in data analysis, as it lets you focus on relevant parts of your data for further processing or analysis.\n",
    "\n",
    "4. In pandas, there are various methods for indexing and selection, including:\n",
    "   * Using square brackets `[]`\n",
    "   * Using `.loc[]` for label-based selection\n",
    "   * Using `.iloc[]` for integer-based selection\n",
    "   * Boolean indexing for condition-based selection\n",
    "\n",
    "5. These methods can be combined for more complex data retrieval operations.\n",
    "\n",
    "In essence, data indexing and selection is about how you \"ask\" your data structure (like a DataFrame) to give you specific pieces of information. It's similar to how you might look up information in a spreadsheet by specifying row and column coordinates, but with more flexible and powerful options."
   ]
  },
  {
   "cell_type": "markdown",
   "id": "e542f9b8-26b5-4044-bf7c-8dbe30ca77a6",
   "metadata": {},
   "source": [
    "**1. Series (One-dimensional data):\n",
    "A Series is like a single column of data, similar to a list or a one-dimensional array.**"
   ]
  },
  {
   "cell_type": "code",
   "execution_count": 16,
   "id": "c3b676a3-4bfe-481f-a2e7-b810a7f1ec67",
   "metadata": {},
   "outputs": [
    {
     "data": {
      "text/plain": [
       "a    1\n",
       "b    2\n",
       "c    3\n",
       "d    4\n",
       "e    5\n",
       "dtype: int64"
      ]
     },
     "execution_count": 16,
     "metadata": {},
     "output_type": "execute_result"
    }
   ],
   "source": [
    "import pandas as pd\n",
    "\n",
    "s = pd.Series([1, 2, 3, 4, 5], index=['a', 'b', 'c', 'd', 'e'])\n",
    "s"
   ]
  },
  {
   "cell_type": "markdown",
   "id": "eb31ba67-8a12-4ec8-a08e-41ecb0e1c259",
   "metadata": {},
   "source": [
    "**--You can access elements in a Series in several ways:**"
   ]
  },
  {
   "cell_type": "markdown",
   "id": "f5e17191-e219-4993-9960-626fbce5fbda",
   "metadata": {},
   "source": [
    "a. By label(index)"
   ]
  },
  {
   "cell_type": "code",
   "execution_count": 20,
   "id": "c3979749-6086-4005-850d-e2017ef0ae5d",
   "metadata": {},
   "outputs": [
    {
     "name": "stdout",
     "output_type": "stream",
     "text": [
      "2\n"
     ]
    }
   ],
   "source": [
    "s = pd.Series([1, 2, 3, 4, 5], index=['a', 'b', 'c', 'd', 'e'])\n",
    "\n",
    "print(s['b'])  "
   ]
  },
  {
   "cell_type": "markdown",
   "id": "8f00d41a-3c65-4392-9dfd-4d0b5d72c985",
   "metadata": {},
   "source": [
    "b. By position"
   ]
  },
  {
   "cell_type": "code",
   "execution_count": 22,
   "id": "e9e93447-c49f-4114-8c69-a9aa2b51d6e7",
   "metadata": {},
   "outputs": [
    {
     "name": "stdout",
     "output_type": "stream",
     "text": [
      "2\n"
     ]
    }
   ],
   "source": [
    "s = pd.Series([1, 2, 3, 4, 5])\n",
    "\n",
    "print(s[1])  "
   ]
  },
  {
   "cell_type": "markdown",
   "id": "863f9274-3eaa-4c03-b7cc-95d941dd9a2e",
   "metadata": {},
   "source": [
    "c. By slicing"
   ]
  },
  {
   "cell_type": "code",
   "execution_count": 24,
   "id": "4266a36c-91ad-4254-b5f8-50357414249d",
   "metadata": {},
   "outputs": [
    {
     "name": "stdout",
     "output_type": "stream",
     "text": [
      "b    2\n",
      "c    3\n",
      "dtype: int64\n"
     ]
    }
   ],
   "source": [
    "s = pd.Series([1, 2, 3, 4, 5], index=['a', 'b', 'c', 'd', 'e'])\n",
    "\n",
    "print(s[1:3])  "
   ]
  },
  {
   "cell_type": "markdown",
   "id": "ebc92b7a-773e-4185-b21f-8f86df40be7f",
   "metadata": {},
   "source": [
    "d. Boolean Indexing"
   ]
  },
  {
   "cell_type": "code",
   "execution_count": 28,
   "id": "fea9bfdb-e7a0-4311-b994-7218d3a454ba",
   "metadata": {},
   "outputs": [
    {
     "name": "stdout",
     "output_type": "stream",
     "text": [
      "c    3\n",
      "d    4\n",
      "e    5\n",
      "dtype: int64\n"
     ]
    }
   ],
   "source": [
    "print(s[s > 2]) "
   ]
  },
  {
   "cell_type": "markdown",
   "id": "09ed3d22-2530-45d5-ae52-3a7a553c0d96",
   "metadata": {},
   "source": [
    "**2. DataFrame (Two-dimensional data):\n",
    "A DataFrame is like a table with rows and columns, similar to a spreadsheet.**"
   ]
  },
  {
   "cell_type": "code",
   "execution_count": 34,
   "id": "31dc0190-8d0c-471b-83c9-6cc1177df320",
   "metadata": {},
   "outputs": [
    {
     "data": {
      "text/html": [
       "<div>\n",
       "<style scoped>\n",
       "    .dataframe tbody tr th:only-of-type {\n",
       "        vertical-align: middle;\n",
       "    }\n",
       "\n",
       "    .dataframe tbody tr th {\n",
       "        vertical-align: top;\n",
       "    }\n",
       "\n",
       "    .dataframe thead th {\n",
       "        text-align: right;\n",
       "    }\n",
       "</style>\n",
       "<table border=\"1\" class=\"dataframe\">\n",
       "  <thead>\n",
       "    <tr style=\"text-align: right;\">\n",
       "      <th></th>\n",
       "      <th>name</th>\n",
       "      <th>age</th>\n",
       "      <th>city</th>\n",
       "    </tr>\n",
       "  </thead>\n",
       "  <tbody>\n",
       "    <tr>\n",
       "      <th>0</th>\n",
       "      <td>Alice</td>\n",
       "      <td>25</td>\n",
       "      <td>New York</td>\n",
       "    </tr>\n",
       "    <tr>\n",
       "      <th>1</th>\n",
       "      <td>Bob</td>\n",
       "      <td>30</td>\n",
       "      <td>Paris</td>\n",
       "    </tr>\n",
       "    <tr>\n",
       "      <th>2</th>\n",
       "      <td>Charlie</td>\n",
       "      <td>35</td>\n",
       "      <td>London</td>\n",
       "    </tr>\n",
       "  </tbody>\n",
       "</table>\n",
       "</div>"
      ],
      "text/plain": [
       "      name  age      city\n",
       "0    Alice   25  New York\n",
       "1      Bob   30     Paris\n",
       "2  Charlie   35    London"
      ]
     },
     "execution_count": 34,
     "metadata": {},
     "output_type": "execute_result"
    }
   ],
   "source": [
    "df = pd.DataFrame({\n",
    "    'name': ['Alice', 'Bob', 'Charlie'],\n",
    "    'age': [25, 30, 35],\n",
    "    'city': ['New York', 'Paris', 'London']\n",
    "})\n",
    "df\n"
   ]
  },
  {
   "cell_type": "markdown",
   "id": "b347136b-11f6-4ccf-8f73-ba219f2afaf2",
   "metadata": {},
   "source": [
    "**--You can access data in a DataFrame in several ways:**"
   ]
  },
  {
   "cell_type": "markdown",
   "id": "3a170747-16b0-47b4-b48f-3461f7578d7e",
   "metadata": {},
   "source": [
    "a) Selecting column"
   ]
  },
  {
   "cell_type": "code",
   "execution_count": 46,
   "id": "e6c101fb-badc-4d6d-a802-9856bdebebf7",
   "metadata": {},
   "outputs": [
    {
     "name": "stdout",
     "output_type": "stream",
     "text": [
      "0      Alice\n",
      "1        Bob\n",
      "2    Charlie\n",
      "Name: name, dtype: object\n"
     ]
    }
   ],
   "source": [
    "print(df['name'])  # Returns the 'name' column as a Series"
   ]
  },
  {
   "cell_type": "markdown",
   "id": "856c9ba1-bec4-451a-8010-916b8e798a89",
   "metadata": {},
   "source": [
    "b) Selecting row by label using .loc"
   ]
  },
  {
   "cell_type": "code",
   "execution_count": 49,
   "id": "db294c37-96f8-4f2c-86f2-41febbc5db38",
   "metadata": {},
   "outputs": [
    {
     "name": "stdout",
     "output_type": "stream",
     "text": [
      "name       Alice\n",
      "age           25\n",
      "city    New York\n",
      "Name: 0, dtype: object\n"
     ]
    }
   ],
   "source": [
    "print(df.loc[0])  # Returns the first row"
   ]
  },
  {
   "cell_type": "markdown",
   "id": "6028fe18-3ab0-4cbe-8425-2a9809340437",
   "metadata": {},
   "source": [
    "c) Selecting row by position using .iloc"
   ]
  },
  {
   "cell_type": "code",
   "execution_count": 52,
   "id": "1116f1c7-e25f-4f57-b056-a7d6f7d25d90",
   "metadata": {},
   "outputs": [
    {
     "name": "stdout",
     "output_type": "stream",
     "text": [
      "name      Bob\n",
      "age        30\n",
      "city    Paris\n",
      "Name: 1, dtype: object\n"
     ]
    }
   ],
   "source": [
    "print(df.iloc[1])  # Returns the second row"
   ]
  },
  {
   "cell_type": "markdown",
   "id": "fdf7a550-c10e-42c9-bd5f-146c86222550",
   "metadata": {},
   "source": [
    "d) Selecting specific cells"
   ]
  },
  {
   "cell_type": "code",
   "execution_count": 55,
   "id": "3e870ee4-eec4-488f-8379-8600837f1270",
   "metadata": {},
   "outputs": [
    {
     "name": "stdout",
     "output_type": "stream",
     "text": [
      "30\n"
     ]
    }
   ],
   "source": [
    "print(df.loc[1, 'age'])  # Returns Bob's age (30)"
   ]
  },
  {
   "cell_type": "markdown",
   "id": "513da790-0ad4-41c0-af1b-64c10cf5f1d5",
   "metadata": {},
   "source": [
    "e) Slicing"
   ]
  },
  {
   "cell_type": "code",
   "execution_count": 58,
   "id": "eeec01ea-a825-4628-81ba-9197a3e1455e",
   "metadata": {},
   "outputs": [
    {
     "name": "stdout",
     "output_type": "stream",
     "text": [
      "      name      city\n",
      "0    Alice  New York\n",
      "1      Bob     Paris\n",
      "2  Charlie    London\n"
     ]
    }
   ],
   "source": [
    "print(df.loc[0:2, ['name', 'city']])  # Returns names and cities for all rows"
   ]
  },
  {
   "cell_type": "markdown",
   "id": "120fe3f3-40bc-462b-bda3-9f3fce6677fd",
   "metadata": {},
   "source": [
    "f) Boolean Indexing"
   ]
  },
  {
   "cell_type": "code",
   "execution_count": 61,
   "id": "8e694d1e-eff9-453c-8ddd-b25fe7d9a8f9",
   "metadata": {},
   "outputs": [
    {
     "name": "stdout",
     "output_type": "stream",
     "text": [
      "      name  age    city\n",
      "2  Charlie   35  London\n"
     ]
    }
   ],
   "source": [
    "print(df[df['age'] > 30])  # Returns rows where age is greater than 30"
   ]
  },
  {
   "cell_type": "markdown",
   "id": "c9edd98b-8cc5-4de4-a1fb-da451960fb4c",
   "metadata": {},
   "source": [
    "## Key points to remember:\n",
    "\n",
    "1. In a Series, you can use either labels or integer positions to access data.\n",
    "\n",
    "2. In a DataFrame, use column names to select columns, and `.loc[]` or `.iloc[]` to select rows.\n",
    "\n",
    "3. `.loc[]` uses labels/index for selection, while `.iloc[]` uses integer positions.\n",
    "\n",
    "4. You can combine these methods for more complex selections.\n",
    "\n",
    "5. Boolean indexing works similarly to NumPy, allowing you to select data based on conditions."
   ]
  },
  {
   "cell_type": "code",
   "execution_count": null,
   "id": "270d0937-d112-4f37-b50b-8ab6718fdecb",
   "metadata": {},
   "outputs": [],
   "source": []
  }
 ],
 "metadata": {
  "kernelspec": {
   "display_name": "Python 3 (ipykernel)",
   "language": "python",
   "name": "python3"
  },
  "language_info": {
   "codemirror_mode": {
    "name": "ipython",
    "version": 3
   },
   "file_extension": ".py",
   "mimetype": "text/x-python",
   "name": "python",
   "nbconvert_exporter": "python",
   "pygments_lexer": "ipython3",
   "version": "3.12.4"
  }
 },
 "nbformat": 4,
 "nbformat_minor": 5
}
